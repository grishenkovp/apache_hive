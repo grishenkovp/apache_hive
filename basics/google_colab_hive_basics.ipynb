{
  "nbformat": 4,
  "nbformat_minor": 0,
  "metadata": {
    "colab": {
      "provenance": []
    },
    "kernelspec": {
      "name": "python3",
      "display_name": "Python 3"
    },
    "language_info": {
      "name": "python"
    }
  },
  "cells": [
    {
      "cell_type": "markdown",
      "source": [
        "# Hive. Basics"
      ],
      "metadata": {
        "id": "xnyxs-D6U8hT"
      }
    },
    {
      "cell_type": "code",
      "execution_count": 1,
      "metadata": {
        "id": "Fcxqg8Wf_zSK"
      },
      "outputs": [],
      "source": [
        "!wget -q https://archive.apache.org/dist/spark/spark-3.3.1/spark-3.3.1-bin-hadoop3.tgz\n",
        "!tar xf spark-3.3.1-bin-hadoop3.tgz\n",
        "!rm spark-3.3.1-bin-hadoop3.tgz\n",
        "!pip install -q findspark"
      ]
    },
    {
      "cell_type": "code",
      "source": [
        "import os\n",
        "os.environ[\"JAVA_HOME\"] = \"/usr/lib/jvm/java-11-openjdk-amd64\"\n",
        "os.environ[\"SPARK_HOME\"] = \"/content/spark-3.3.1-bin-hadoop3\""
      ],
      "metadata": {
        "id": "wEaoXZBMAhIw"
      },
      "execution_count": 2,
      "outputs": []
    },
    {
      "cell_type": "code",
      "source": [
        "import findspark\n",
        "findspark.init('spark-3.3.1-bin-hadoop3')"
      ],
      "metadata": {
        "id": "4RCiOWA7Ajnv"
      },
      "execution_count": 3,
      "outputs": []
    },
    {
      "cell_type": "code",
      "source": [
        "from pyspark.sql import SparkSession\n",
        "from pyspark.sql.types import StructType,StructField, StringType, IntegerType,ArrayType"
      ],
      "metadata": {
        "id": "zJq-JqkMBQWo"
      },
      "execution_count": 4,
      "outputs": []
    },
    {
      "cell_type": "code",
      "source": [
        "spark = SparkSession.builder.master('local[*]').enableHiveSupport().appName(\"HiveTest\").getOrCreate()"
      ],
      "metadata": {
        "id": "-aHyZXlTAoDf"
      },
      "execution_count": 5,
      "outputs": []
    },
    {
      "cell_type": "code",
      "source": [
        "import pandas as pd"
      ],
      "metadata": {
        "id": "Q-muywdemR_1"
      },
      "execution_count": 6,
      "outputs": []
    },
    {
      "cell_type": "code",
      "source": [
        "dataset1 = pd.read_csv(\"/content/drive/MyDrive/datasets/test_data.csv\")"
      ],
      "metadata": {
        "id": "RwNazUeHmWTs"
      },
      "execution_count": 7,
      "outputs": []
    },
    {
      "cell_type": "code",
      "source": [
        "dataset1.head()"
      ],
      "metadata": {
        "colab": {
          "base_uri": "https://localhost:8080/",
          "height": 206
        },
        "id": "IIMchLyMml1N",
        "outputId": "14ba9c32-2a49-4cdb-e23c-8559e5bdb58f"
      },
      "execution_count": 8,
      "outputs": [
        {
          "output_type": "execute_result",
          "data": {
            "text/plain": [
              "  region manager product  amount\n",
              "0     r2      m1     pr3      12\n",
              "1     r2      m5     pr6      49\n",
              "2     r2      m3     pr1      49\n",
              "3     r5      m4     pr7      59\n",
              "4     r5      m2     pr2      68"
            ],
            "text/html": [
              "\n",
              "  <div id=\"df-e7dfd84f-32d8-4dfe-8876-fad5ed99e9e6\">\n",
              "    <div class=\"colab-df-container\">\n",
              "      <div>\n",
              "<style scoped>\n",
              "    .dataframe tbody tr th:only-of-type {\n",
              "        vertical-align: middle;\n",
              "    }\n",
              "\n",
              "    .dataframe tbody tr th {\n",
              "        vertical-align: top;\n",
              "    }\n",
              "\n",
              "    .dataframe thead th {\n",
              "        text-align: right;\n",
              "    }\n",
              "</style>\n",
              "<table border=\"1\" class=\"dataframe\">\n",
              "  <thead>\n",
              "    <tr style=\"text-align: right;\">\n",
              "      <th></th>\n",
              "      <th>region</th>\n",
              "      <th>manager</th>\n",
              "      <th>product</th>\n",
              "      <th>amount</th>\n",
              "    </tr>\n",
              "  </thead>\n",
              "  <tbody>\n",
              "    <tr>\n",
              "      <th>0</th>\n",
              "      <td>r2</td>\n",
              "      <td>m1</td>\n",
              "      <td>pr3</td>\n",
              "      <td>12</td>\n",
              "    </tr>\n",
              "    <tr>\n",
              "      <th>1</th>\n",
              "      <td>r2</td>\n",
              "      <td>m5</td>\n",
              "      <td>pr6</td>\n",
              "      <td>49</td>\n",
              "    </tr>\n",
              "    <tr>\n",
              "      <th>2</th>\n",
              "      <td>r2</td>\n",
              "      <td>m3</td>\n",
              "      <td>pr1</td>\n",
              "      <td>49</td>\n",
              "    </tr>\n",
              "    <tr>\n",
              "      <th>3</th>\n",
              "      <td>r5</td>\n",
              "      <td>m4</td>\n",
              "      <td>pr7</td>\n",
              "      <td>59</td>\n",
              "    </tr>\n",
              "    <tr>\n",
              "      <th>4</th>\n",
              "      <td>r5</td>\n",
              "      <td>m2</td>\n",
              "      <td>pr2</td>\n",
              "      <td>68</td>\n",
              "    </tr>\n",
              "  </tbody>\n",
              "</table>\n",
              "</div>\n",
              "      <button class=\"colab-df-convert\" onclick=\"convertToInteractive('df-e7dfd84f-32d8-4dfe-8876-fad5ed99e9e6')\"\n",
              "              title=\"Convert this dataframe to an interactive table.\"\n",
              "              style=\"display:none;\">\n",
              "        \n",
              "  <svg xmlns=\"http://www.w3.org/2000/svg\" height=\"24px\"viewBox=\"0 0 24 24\"\n",
              "       width=\"24px\">\n",
              "    <path d=\"M0 0h24v24H0V0z\" fill=\"none\"/>\n",
              "    <path d=\"M18.56 5.44l.94 2.06.94-2.06 2.06-.94-2.06-.94-.94-2.06-.94 2.06-2.06.94zm-11 1L8.5 8.5l.94-2.06 2.06-.94-2.06-.94L8.5 2.5l-.94 2.06-2.06.94zm10 10l.94 2.06.94-2.06 2.06-.94-2.06-.94-.94-2.06-.94 2.06-2.06.94z\"/><path d=\"M17.41 7.96l-1.37-1.37c-.4-.4-.92-.59-1.43-.59-.52 0-1.04.2-1.43.59L10.3 9.45l-7.72 7.72c-.78.78-.78 2.05 0 2.83L4 21.41c.39.39.9.59 1.41.59.51 0 1.02-.2 1.41-.59l7.78-7.78 2.81-2.81c.8-.78.8-2.07 0-2.86zM5.41 20L4 18.59l7.72-7.72 1.47 1.35L5.41 20z\"/>\n",
              "  </svg>\n",
              "      </button>\n",
              "      \n",
              "  <style>\n",
              "    .colab-df-container {\n",
              "      display:flex;\n",
              "      flex-wrap:wrap;\n",
              "      gap: 12px;\n",
              "    }\n",
              "\n",
              "    .colab-df-convert {\n",
              "      background-color: #E8F0FE;\n",
              "      border: none;\n",
              "      border-radius: 50%;\n",
              "      cursor: pointer;\n",
              "      display: none;\n",
              "      fill: #1967D2;\n",
              "      height: 32px;\n",
              "      padding: 0 0 0 0;\n",
              "      width: 32px;\n",
              "    }\n",
              "\n",
              "    .colab-df-convert:hover {\n",
              "      background-color: #E2EBFA;\n",
              "      box-shadow: 0px 1px 2px rgba(60, 64, 67, 0.3), 0px 1px 3px 1px rgba(60, 64, 67, 0.15);\n",
              "      fill: #174EA6;\n",
              "    }\n",
              "\n",
              "    [theme=dark] .colab-df-convert {\n",
              "      background-color: #3B4455;\n",
              "      fill: #D2E3FC;\n",
              "    }\n",
              "\n",
              "    [theme=dark] .colab-df-convert:hover {\n",
              "      background-color: #434B5C;\n",
              "      box-shadow: 0px 1px 3px 1px rgba(0, 0, 0, 0.15);\n",
              "      filter: drop-shadow(0px 1px 2px rgba(0, 0, 0, 0.3));\n",
              "      fill: #FFFFFF;\n",
              "    }\n",
              "  </style>\n",
              "\n",
              "      <script>\n",
              "        const buttonEl =\n",
              "          document.querySelector('#df-e7dfd84f-32d8-4dfe-8876-fad5ed99e9e6 button.colab-df-convert');\n",
              "        buttonEl.style.display =\n",
              "          google.colab.kernel.accessAllowed ? 'block' : 'none';\n",
              "\n",
              "        async function convertToInteractive(key) {\n",
              "          const element = document.querySelector('#df-e7dfd84f-32d8-4dfe-8876-fad5ed99e9e6');\n",
              "          const dataTable =\n",
              "            await google.colab.kernel.invokeFunction('convertToInteractive',\n",
              "                                                     [key], {});\n",
              "          if (!dataTable) return;\n",
              "\n",
              "          const docLinkHtml = 'Like what you see? Visit the ' +\n",
              "            '<a target=\"_blank\" href=https://colab.research.google.com/notebooks/data_table.ipynb>data table notebook</a>'\n",
              "            + ' to learn more about interactive tables.';\n",
              "          element.innerHTML = '';\n",
              "          dataTable['output_type'] = 'display_data';\n",
              "          await google.colab.output.renderOutput(dataTable, element);\n",
              "          const docLink = document.createElement('div');\n",
              "          docLink.innerHTML = docLinkHtml;\n",
              "          element.appendChild(docLink);\n",
              "        }\n",
              "      </script>\n",
              "    </div>\n",
              "  </div>\n",
              "  "
            ]
          },
          "metadata": {},
          "execution_count": 8
        }
      ]
    },
    {
      "cell_type": "code",
      "source": [
        "schema = StructType([ \\\n",
        "    StructField(\"region\",StringType(),True), \\\n",
        "    StructField(\"manager\",StringType(),True),\\\n",
        "    StructField(\"product\",StringType(),True),\\\n",
        "    StructField(\"amount\",IntegerType(),True)\n",
        "  ])\n",
        " \n",
        "df = spark.read.format(\"csv\") \\\n",
        "      .options(header='True', delimiter=',') \\\n",
        "      .schema(schema) \\\n",
        "      .load(\"/content/drive/MyDrive/datasets/test_data.csv\")\n",
        "df.printSchema()\n",
        "df.show(7, truncate=False)"
      ],
      "metadata": {
        "colab": {
          "base_uri": "https://localhost:8080/"
        },
        "id": "h5JsRA7nAlm_",
        "outputId": "d1ed1d18-8032-400b-b2cb-55f64dc44ca3"
      },
      "execution_count": 9,
      "outputs": [
        {
          "output_type": "stream",
          "name": "stdout",
          "text": [
            "root\n",
            " |-- region: string (nullable = true)\n",
            " |-- manager: string (nullable = true)\n",
            " |-- product: string (nullable = true)\n",
            " |-- amount: integer (nullable = true)\n",
            "\n",
            "+------+-------+-------+------+\n",
            "|region|manager|product|amount|\n",
            "+------+-------+-------+------+\n",
            "|r2    |m1     |pr3    |12    |\n",
            "|r2    |m5     |pr6    |49    |\n",
            "|r2    |m3     |pr1    |49    |\n",
            "|r5    |m4     |pr7    |59    |\n",
            "|r5    |m2     |pr2    |68    |\n",
            "|r1    |m4     |pr3    |50    |\n",
            "|r2    |m5     |pr2    |21    |\n",
            "+------+-------+-------+------+\n",
            "only showing top 7 rows\n",
            "\n"
          ]
        }
      ]
    },
    {
      "cell_type": "markdown",
      "source": [
        "### Create Database"
      ],
      "metadata": {
        "id": "6raXqqYSBTfK"
      }
    },
    {
      "cell_type": "code",
      "source": [
        "spark.sql(\"\"\"CREATE DATABASE IF NOT EXISTS test_db LOCATION '/content/hive/warehouse'\"\"\")"
      ],
      "metadata": {
        "colab": {
          "base_uri": "https://localhost:8080/"
        },
        "id": "Lv7E1omAUboB",
        "outputId": "1a84b9da-0d8a-4f42-f55f-397a59486431"
      },
      "execution_count": 10,
      "outputs": [
        {
          "output_type": "execute_result",
          "data": {
            "text/plain": [
              "DataFrame[]"
            ]
          },
          "metadata": {},
          "execution_count": 10
        }
      ]
    },
    {
      "cell_type": "markdown",
      "source": [
        "### Show Databases"
      ],
      "metadata": {
        "id": "tEcGfO9qBs1Q"
      }
    },
    {
      "cell_type": "code",
      "source": [
        "spark.sql(\"\"\"SHOW DATABASES;\"\"\").show(10)"
      ],
      "metadata": {
        "colab": {
          "base_uri": "https://localhost:8080/"
        },
        "id": "MJW-fxCLUeBZ",
        "outputId": "f24fe62e-e75e-4789-b8de-619c11332a76"
      },
      "execution_count": 11,
      "outputs": [
        {
          "output_type": "stream",
          "name": "stdout",
          "text": [
            "+---------+\n",
            "|namespace|\n",
            "+---------+\n",
            "|  default|\n",
            "|  test_db|\n",
            "+---------+\n",
            "\n"
          ]
        }
      ]
    },
    {
      "cell_type": "markdown",
      "source": [
        "### Use Database"
      ],
      "metadata": {
        "id": "xjQE_w7gCqcy"
      }
    },
    {
      "cell_type": "code",
      "source": [
        "spark.sql(\"\"\"USE test_db;\"\"\")"
      ],
      "metadata": {
        "colab": {
          "base_uri": "https://localhost:8080/"
        },
        "id": "3EbOrGVXCr7H",
        "outputId": "30808d5e-a4d2-46ba-d5ed-376907670287"
      },
      "execution_count": 12,
      "outputs": [
        {
          "output_type": "execute_result",
          "data": {
            "text/plain": [
              "DataFrame[]"
            ]
          },
          "metadata": {},
          "execution_count": 12
        }
      ]
    },
    {
      "cell_type": "markdown",
      "source": [
        "### Describe Database"
      ],
      "metadata": {
        "id": "Huze5Rp6C38n"
      }
    },
    {
      "cell_type": "code",
      "source": [
        "spark.sql(\"\"\"DESCRIBE DATABASE EXTENDED test_db;\"\"\").show(truncate=False)"
      ],
      "metadata": {
        "colab": {
          "base_uri": "https://localhost:8080/"
        },
        "id": "k83tvQg8C5t3",
        "outputId": "2e4648f0-4165-4571-a116-a135c21358ce"
      },
      "execution_count": 13,
      "outputs": [
        {
          "output_type": "stream",
          "name": "stdout",
          "text": [
            "+--------------+----------------------------+\n",
            "|info_name     |info_value                  |\n",
            "+--------------+----------------------------+\n",
            "|Namespace Name|test_db                     |\n",
            "|Comment       |                            |\n",
            "|Location      |file:/content/hive/warehouse|\n",
            "|Owner         |root                        |\n",
            "|Properties    |                            |\n",
            "+--------------+----------------------------+\n",
            "\n"
          ]
        }
      ]
    },
    {
      "cell_type": "code",
      "source": [
        "spark.sql(\"\"\"DESCRIBE SCHEMA EXTENDED test_db;\"\"\").show(truncate=False)"
      ],
      "metadata": {
        "colab": {
          "base_uri": "https://localhost:8080/"
        },
        "id": "vG_xtNjSDOd4",
        "outputId": "19c9534e-514e-4f6a-9fa7-cc6a8da37ace"
      },
      "execution_count": 14,
      "outputs": [
        {
          "output_type": "stream",
          "name": "stdout",
          "text": [
            "+--------------+----------------------------+\n",
            "|info_name     |info_value                  |\n",
            "+--------------+----------------------------+\n",
            "|Namespace Name|test_db                     |\n",
            "|Comment       |                            |\n",
            "|Location      |file:/content/hive/warehouse|\n",
            "|Owner         |root                        |\n",
            "|Properties    |                            |\n",
            "+--------------+----------------------------+\n",
            "\n"
          ]
        }
      ]
    },
    {
      "cell_type": "markdown",
      "source": [
        "### Drop Database"
      ],
      "metadata": {
        "id": "X2IR1pghDxdf"
      }
    },
    {
      "cell_type": "code",
      "source": [
        "spark.sql(\"\"\"CREATE DATABASE IF NOT EXISTS test_db_tmp LOCATION '/content/hive/warehouse'\"\"\")"
      ],
      "metadata": {
        "colab": {
          "base_uri": "https://localhost:8080/"
        },
        "id": "FAazCeabDyxP",
        "outputId": "0429b4bd-36f4-46c8-bf18-d2d7f50c5dea"
      },
      "execution_count": 15,
      "outputs": [
        {
          "output_type": "execute_result",
          "data": {
            "text/plain": [
              "DataFrame[]"
            ]
          },
          "metadata": {},
          "execution_count": 15
        }
      ]
    },
    {
      "cell_type": "code",
      "source": [
        "spark.sql(\"\"\"DROP DATABASE  test_db_tmp;\"\"\")"
      ],
      "metadata": {
        "colab": {
          "base_uri": "https://localhost:8080/"
        },
        "id": "IT3196qCD5-X",
        "outputId": "7a58ec9a-8eef-4ffe-9e5e-2d6b2dce0432"
      },
      "execution_count": 16,
      "outputs": [
        {
          "output_type": "execute_result",
          "data": {
            "text/plain": [
              "DataFrame[]"
            ]
          },
          "metadata": {},
          "execution_count": 16
        }
      ]
    },
    {
      "cell_type": "markdown",
      "source": [
        "### Create Table. Example 1"
      ],
      "metadata": {
        "id": "LFqc_MvYGRav"
      }
    },
    {
      "cell_type": "code",
      "source": [
        "spark.sql(\"\"\"DROP TABLE IF EXISTS test_db.sales_spark;\"\"\")"
      ],
      "metadata": {
        "id": "5P6BhaKjb5ox",
        "colab": {
          "base_uri": "https://localhost:8080/"
        },
        "outputId": "003c127b-440e-4469-ea3c-fab3f2bfe86d"
      },
      "execution_count": 17,
      "outputs": [
        {
          "output_type": "execute_result",
          "data": {
            "text/plain": [
              "DataFrame[]"
            ]
          },
          "metadata": {},
          "execution_count": 17
        }
      ]
    },
    {
      "cell_type": "code",
      "source": [
        "(\n",
        "    df.write\n",
        "    .partitionBy(\"product\")\n",
        "    .mode(\"overwrite\")\n",
        "    .saveAsTable(\"test_db.sales_spark\")\n",
        " \n",
        ")"
      ],
      "metadata": {
        "id": "mtiDElUCNyJk"
      },
      "execution_count": 18,
      "outputs": []
    },
    {
      "cell_type": "code",
      "source": [
        "spark.sql(\"\"\"SHOW TABLES IN test_db\"\"\").show(100, truncate=False)"
      ],
      "metadata": {
        "colab": {
          "base_uri": "https://localhost:8080/"
        },
        "id": "99c4MLvofLge",
        "outputId": "34d7661e-fe17-4376-9e65-11397b9caf24"
      },
      "execution_count": 19,
      "outputs": [
        {
          "output_type": "stream",
          "name": "stdout",
          "text": [
            "+---------+-----------+-----------+\n",
            "|namespace|tableName  |isTemporary|\n",
            "+---------+-----------+-----------+\n",
            "|test_db  |sales_spark|false      |\n",
            "+---------+-----------+-----------+\n",
            "\n"
          ]
        }
      ]
    },
    {
      "cell_type": "code",
      "source": [
        "spark.sql(\"\"\"DESCRIBE FORMATTED test_db.sales_spark\"\"\").show(100, truncate=False)"
      ],
      "metadata": {
        "colab": {
          "base_uri": "https://localhost:8080/"
        },
        "id": "NqICaKVxfOnO",
        "outputId": "2f8698cc-81ed-4ea4-fc0f-23d4eb00acd5"
      },
      "execution_count": 20,
      "outputs": [
        {
          "output_type": "stream",
          "name": "stdout",
          "text": [
            "+----------------------------+--------------------------------------------------------------+-------+\n",
            "|col_name                    |data_type                                                     |comment|\n",
            "+----------------------------+--------------------------------------------------------------+-------+\n",
            "|region                      |string                                                        |null   |\n",
            "|manager                     |string                                                        |null   |\n",
            "|amount                      |int                                                           |null   |\n",
            "|product                     |string                                                        |null   |\n",
            "|# Partition Information     |                                                              |       |\n",
            "|# col_name                  |data_type                                                     |comment|\n",
            "|product                     |string                                                        |null   |\n",
            "|                            |                                                              |       |\n",
            "|# Detailed Table Information|                                                              |       |\n",
            "|Database                    |test_db                                                       |       |\n",
            "|Table                       |sales_spark                                                   |       |\n",
            "|Owner                       |root                                                          |       |\n",
            "|Created Time                |Sun Jan 08 15:08:47 UTC 2023                                  |       |\n",
            "|Last Access                 |UNKNOWN                                                       |       |\n",
            "|Created By                  |Spark 3.3.1                                                   |       |\n",
            "|Type                        |MANAGED                                                       |       |\n",
            "|Provider                    |parquet                                                       |       |\n",
            "|Location                    |file:/content/hive/warehouse/sales_spark                      |       |\n",
            "|Serde Library               |org.apache.hadoop.hive.ql.io.parquet.serde.ParquetHiveSerDe   |       |\n",
            "|InputFormat                 |org.apache.hadoop.hive.ql.io.parquet.MapredParquetInputFormat |       |\n",
            "|OutputFormat                |org.apache.hadoop.hive.ql.io.parquet.MapredParquetOutputFormat|       |\n",
            "|Partition Provider          |Catalog                                                       |       |\n",
            "+----------------------------+--------------------------------------------------------------+-------+\n",
            "\n"
          ]
        }
      ]
    },
    {
      "cell_type": "code",
      "source": [
        "spark.sql(\"\"\"SELECT db.* FROM test_db.sales_spark as db\"\"\").show(10)"
      ],
      "metadata": {
        "colab": {
          "base_uri": "https://localhost:8080/"
        },
        "id": "mvxvAcgyUli5",
        "outputId": "0ebd3e0b-9cdb-4ef5-d4f7-07e90f4e1695"
      },
      "execution_count": 21,
      "outputs": [
        {
          "output_type": "stream",
          "name": "stdout",
          "text": [
            "+------+-------+------+-------+\n",
            "|region|manager|amount|product|\n",
            "+------+-------+------+-------+\n",
            "|    r5|     m2|    68|    pr2|\n",
            "|    r2|     m5|    21|    pr2|\n",
            "|    r6|     m3|    22|    pr2|\n",
            "|    r5|     m3|    46|    pr2|\n",
            "|    r9|     m4|    82|    pr2|\n",
            "|   r10|     m2|    74|    pr2|\n",
            "|    r2|     m1|    12|    pr3|\n",
            "|    r1|     m4|    50|    pr3|\n",
            "|    r1|     m5|    59|    pr3|\n",
            "|    r6|     m5|    28|    pr3|\n",
            "+------+-------+------+-------+\n",
            "only showing top 10 rows\n",
            "\n"
          ]
        }
      ]
    },
    {
      "cell_type": "markdown",
      "source": [
        "### Show All Partitions on Hive Table"
      ],
      "metadata": {
        "id": "W2I7YnCJUUor"
      }
    },
    {
      "cell_type": "code",
      "source": [
        "spark.sql(\"\"\"SHOW PARTITIONS test_db.sales_spark;\"\"\").show(100, truncate=False)"
      ],
      "metadata": {
        "colab": {
          "base_uri": "https://localhost:8080/"
        },
        "id": "EkhZ0WBIUV4y",
        "outputId": "219ce3c1-d2d6-4b30-c7d1-9b0e051dbab8"
      },
      "execution_count": 22,
      "outputs": [
        {
          "output_type": "stream",
          "name": "stdout",
          "text": [
            "+-----------+\n",
            "|partition  |\n",
            "+-----------+\n",
            "|product=pr1|\n",
            "|product=pr2|\n",
            "|product=pr3|\n",
            "|product=pr4|\n",
            "|product=pr5|\n",
            "|product=pr6|\n",
            "|product=pr7|\n",
            "+-----------+\n",
            "\n"
          ]
        }
      ]
    },
    {
      "cell_type": "markdown",
      "source": [
        "### Create Table. Example 2"
      ],
      "metadata": {
        "id": "XlceSPCAHEe-"
      }
    },
    {
      "cell_type": "code",
      "source": [
        "spark.sql(\"\"\"DROP TABLE IF EXISTS test_db.sales_hive;\"\"\")"
      ],
      "metadata": {
        "id": "NtTztaBpby4I",
        "colab": {
          "base_uri": "https://localhost:8080/"
        },
        "outputId": "a7f419c3-344e-4c1e-f4ce-9e2d493a0679"
      },
      "execution_count": 23,
      "outputs": [
        {
          "output_type": "execute_result",
          "data": {
            "text/plain": [
              "DataFrame[]"
            ]
          },
          "metadata": {},
          "execution_count": 23
        }
      ]
    },
    {
      "cell_type": "code",
      "source": [
        "spark.sql(\"\"\"CREATE TABLE IF NOT EXISTS test_db.sales_hive (                                       \n",
        "                                        manager string,\n",
        "                                        product string,\n",
        "                                        amount int )\n",
        "                                        PARTITIONED BY(region string)\n",
        "                                        COMMENT 'Sales Table. Hive'\n",
        "                                        ROW FORMAT DELIMITED\n",
        "                                        FIELDS TERMINATED BY ',';\"\"\")"
      ],
      "metadata": {
        "colab": {
          "base_uri": "https://localhost:8080/"
        },
        "id": "p64-SD1kHGbe",
        "outputId": "aa853559-4d14-4ff3-caea-2c3ff1de8c89"
      },
      "execution_count": 24,
      "outputs": [
        {
          "output_type": "execute_result",
          "data": {
            "text/plain": [
              "DataFrame[]"
            ]
          },
          "metadata": {},
          "execution_count": 24
        }
      ]
    },
    {
      "cell_type": "code",
      "source": [
        "spark.sql(\"\"\"SHOW TABLES IN test_db\"\"\").show(100, truncate=False)"
      ],
      "metadata": {
        "colab": {
          "base_uri": "https://localhost:8080/"
        },
        "id": "5XoKeuKYI53W",
        "outputId": "bce73e42-8ded-45e4-c17e-6ffe03d1879a"
      },
      "execution_count": 25,
      "outputs": [
        {
          "output_type": "stream",
          "name": "stdout",
          "text": [
            "+---------+-----------+-----------+\n",
            "|namespace|tableName  |isTemporary|\n",
            "+---------+-----------+-----------+\n",
            "|test_db  |sales_hive |false      |\n",
            "|test_db  |sales_spark|false      |\n",
            "+---------+-----------+-----------+\n",
            "\n"
          ]
        }
      ]
    },
    {
      "cell_type": "code",
      "source": [
        "spark.sql(\"\"\"DESCRIBE test_db.sales_hive\"\"\").show(100, truncate=False)"
      ],
      "metadata": {
        "colab": {
          "base_uri": "https://localhost:8080/"
        },
        "id": "Q6mD7Ck4JAxl",
        "outputId": "de788862-ee57-4df1-8da6-d44d86f9fd28"
      },
      "execution_count": 26,
      "outputs": [
        {
          "output_type": "stream",
          "name": "stdout",
          "text": [
            "+-----------------------+---------+-------+\n",
            "|col_name               |data_type|comment|\n",
            "+-----------------------+---------+-------+\n",
            "|manager                |string   |null   |\n",
            "|product                |string   |null   |\n",
            "|amount                 |int      |null   |\n",
            "|region                 |string   |null   |\n",
            "|# Partition Information|         |       |\n",
            "|# col_name             |data_type|comment|\n",
            "|region                 |string   |null   |\n",
            "+-----------------------+---------+-------+\n",
            "\n"
          ]
        }
      ]
    },
    {
      "cell_type": "markdown",
      "source": [
        "### Hive Load CSV File into Table"
      ],
      "metadata": {
        "id": "3CpnezOrMOE4"
      }
    },
    {
      "cell_type": "markdown",
      "source": [
        "Note: Remember the partitioned column should be the last column on the file to loaded data into right partitioned column of the table."
      ],
      "metadata": {
        "id": "NKzirMyHQIbZ"
      }
    },
    {
      "cell_type": "markdown",
      "source": [
        "If your partition column is not at the end then you need to do following.\n",
        "\n",
        "* Create another table without partition.\n",
        "* Load data into the table (assume \"region\" is at first column).\n",
        "* Insert into the partitioned table by selecting columns from the non-partitioned table (make sure you select \"region\" at the end)."
      ],
      "metadata": {
        "id": "BdzK-RIsQJ-L"
      }
    },
    {
      "cell_type": "code",
      "source": [
        "spark.sql(\"\"\"DROP TABLE IF EXISTS test_db.sales_hive_tmp;\"\"\")"
      ],
      "metadata": {
        "colab": {
          "base_uri": "https://localhost:8080/"
        },
        "id": "_SLWmip0bl5Q",
        "outputId": "cf3c1f2f-d347-4d49-f5e8-6a4f429aa1ed"
      },
      "execution_count": 27,
      "outputs": [
        {
          "output_type": "execute_result",
          "data": {
            "text/plain": [
              "DataFrame[]"
            ]
          },
          "metadata": {},
          "execution_count": 27
        }
      ]
    },
    {
      "cell_type": "code",
      "source": [
        "spark.sql(\"\"\"CREATE TABLE IF NOT EXISTS test_db.sales_hive_tmp (\n",
        "                                                  region string,                                       \n",
        "                                                  manager string,\n",
        "                                                  product string,\n",
        "                                                  amount int)\n",
        "                                                  COMMENT 'Sales Table. TMP'\n",
        "                                                  ROW FORMAT DELIMITED\n",
        "                                                  FIELDS TERMINATED BY ',';\"\"\")"
      ],
      "metadata": {
        "colab": {
          "base_uri": "https://localhost:8080/"
        },
        "id": "D3j_UBMOOttk",
        "outputId": "526a7ddc-ed32-4c8a-a52f-f26c24677110"
      },
      "execution_count": 28,
      "outputs": [
        {
          "output_type": "execute_result",
          "data": {
            "text/plain": [
              "DataFrame[]"
            ]
          },
          "metadata": {},
          "execution_count": 28
        }
      ]
    },
    {
      "cell_type": "code",
      "source": [
        "dataset2 = pd.read_csv(\"/content/drive/MyDrive/datasets/test_data_without_header.csv\",header=None)"
      ],
      "metadata": {
        "id": "7ULa06R6n-M1"
      },
      "execution_count": 29,
      "outputs": []
    },
    {
      "cell_type": "code",
      "source": [
        "dataset2.head()"
      ],
      "metadata": {
        "colab": {
          "base_uri": "https://localhost:8080/",
          "height": 206
        },
        "id": "v5TGZXAloE1c",
        "outputId": "1fed4f69-920e-455a-c6de-4a6333f32a40"
      },
      "execution_count": 30,
      "outputs": [
        {
          "output_type": "execute_result",
          "data": {
            "text/plain": [
              "    0   1    2   3\n",
              "0  r2  m1  pr3  12\n",
              "1  r2  m5  pr6  49\n",
              "2  r2  m3  pr1  49\n",
              "3  r5  m4  pr7  59\n",
              "4  r5  m2  pr2  68"
            ],
            "text/html": [
              "\n",
              "  <div id=\"df-7708e22c-badf-400a-9b45-e3d1190f2318\">\n",
              "    <div class=\"colab-df-container\">\n",
              "      <div>\n",
              "<style scoped>\n",
              "    .dataframe tbody tr th:only-of-type {\n",
              "        vertical-align: middle;\n",
              "    }\n",
              "\n",
              "    .dataframe tbody tr th {\n",
              "        vertical-align: top;\n",
              "    }\n",
              "\n",
              "    .dataframe thead th {\n",
              "        text-align: right;\n",
              "    }\n",
              "</style>\n",
              "<table border=\"1\" class=\"dataframe\">\n",
              "  <thead>\n",
              "    <tr style=\"text-align: right;\">\n",
              "      <th></th>\n",
              "      <th>0</th>\n",
              "      <th>1</th>\n",
              "      <th>2</th>\n",
              "      <th>3</th>\n",
              "    </tr>\n",
              "  </thead>\n",
              "  <tbody>\n",
              "    <tr>\n",
              "      <th>0</th>\n",
              "      <td>r2</td>\n",
              "      <td>m1</td>\n",
              "      <td>pr3</td>\n",
              "      <td>12</td>\n",
              "    </tr>\n",
              "    <tr>\n",
              "      <th>1</th>\n",
              "      <td>r2</td>\n",
              "      <td>m5</td>\n",
              "      <td>pr6</td>\n",
              "      <td>49</td>\n",
              "    </tr>\n",
              "    <tr>\n",
              "      <th>2</th>\n",
              "      <td>r2</td>\n",
              "      <td>m3</td>\n",
              "      <td>pr1</td>\n",
              "      <td>49</td>\n",
              "    </tr>\n",
              "    <tr>\n",
              "      <th>3</th>\n",
              "      <td>r5</td>\n",
              "      <td>m4</td>\n",
              "      <td>pr7</td>\n",
              "      <td>59</td>\n",
              "    </tr>\n",
              "    <tr>\n",
              "      <th>4</th>\n",
              "      <td>r5</td>\n",
              "      <td>m2</td>\n",
              "      <td>pr2</td>\n",
              "      <td>68</td>\n",
              "    </tr>\n",
              "  </tbody>\n",
              "</table>\n",
              "</div>\n",
              "      <button class=\"colab-df-convert\" onclick=\"convertToInteractive('df-7708e22c-badf-400a-9b45-e3d1190f2318')\"\n",
              "              title=\"Convert this dataframe to an interactive table.\"\n",
              "              style=\"display:none;\">\n",
              "        \n",
              "  <svg xmlns=\"http://www.w3.org/2000/svg\" height=\"24px\"viewBox=\"0 0 24 24\"\n",
              "       width=\"24px\">\n",
              "    <path d=\"M0 0h24v24H0V0z\" fill=\"none\"/>\n",
              "    <path d=\"M18.56 5.44l.94 2.06.94-2.06 2.06-.94-2.06-.94-.94-2.06-.94 2.06-2.06.94zm-11 1L8.5 8.5l.94-2.06 2.06-.94-2.06-.94L8.5 2.5l-.94 2.06-2.06.94zm10 10l.94 2.06.94-2.06 2.06-.94-2.06-.94-.94-2.06-.94 2.06-2.06.94z\"/><path d=\"M17.41 7.96l-1.37-1.37c-.4-.4-.92-.59-1.43-.59-.52 0-1.04.2-1.43.59L10.3 9.45l-7.72 7.72c-.78.78-.78 2.05 0 2.83L4 21.41c.39.39.9.59 1.41.59.51 0 1.02-.2 1.41-.59l7.78-7.78 2.81-2.81c.8-.78.8-2.07 0-2.86zM5.41 20L4 18.59l7.72-7.72 1.47 1.35L5.41 20z\"/>\n",
              "  </svg>\n",
              "      </button>\n",
              "      \n",
              "  <style>\n",
              "    .colab-df-container {\n",
              "      display:flex;\n",
              "      flex-wrap:wrap;\n",
              "      gap: 12px;\n",
              "    }\n",
              "\n",
              "    .colab-df-convert {\n",
              "      background-color: #E8F0FE;\n",
              "      border: none;\n",
              "      border-radius: 50%;\n",
              "      cursor: pointer;\n",
              "      display: none;\n",
              "      fill: #1967D2;\n",
              "      height: 32px;\n",
              "      padding: 0 0 0 0;\n",
              "      width: 32px;\n",
              "    }\n",
              "\n",
              "    .colab-df-convert:hover {\n",
              "      background-color: #E2EBFA;\n",
              "      box-shadow: 0px 1px 2px rgba(60, 64, 67, 0.3), 0px 1px 3px 1px rgba(60, 64, 67, 0.15);\n",
              "      fill: #174EA6;\n",
              "    }\n",
              "\n",
              "    [theme=dark] .colab-df-convert {\n",
              "      background-color: #3B4455;\n",
              "      fill: #D2E3FC;\n",
              "    }\n",
              "\n",
              "    [theme=dark] .colab-df-convert:hover {\n",
              "      background-color: #434B5C;\n",
              "      box-shadow: 0px 1px 3px 1px rgba(0, 0, 0, 0.15);\n",
              "      filter: drop-shadow(0px 1px 2px rgba(0, 0, 0, 0.3));\n",
              "      fill: #FFFFFF;\n",
              "    }\n",
              "  </style>\n",
              "\n",
              "      <script>\n",
              "        const buttonEl =\n",
              "          document.querySelector('#df-7708e22c-badf-400a-9b45-e3d1190f2318 button.colab-df-convert');\n",
              "        buttonEl.style.display =\n",
              "          google.colab.kernel.accessAllowed ? 'block' : 'none';\n",
              "\n",
              "        async function convertToInteractive(key) {\n",
              "          const element = document.querySelector('#df-7708e22c-badf-400a-9b45-e3d1190f2318');\n",
              "          const dataTable =\n",
              "            await google.colab.kernel.invokeFunction('convertToInteractive',\n",
              "                                                     [key], {});\n",
              "          if (!dataTable) return;\n",
              "\n",
              "          const docLinkHtml = 'Like what you see? Visit the ' +\n",
              "            '<a target=\"_blank\" href=https://colab.research.google.com/notebooks/data_table.ipynb>data table notebook</a>'\n",
              "            + ' to learn more about interactive tables.';\n",
              "          element.innerHTML = '';\n",
              "          dataTable['output_type'] = 'display_data';\n",
              "          await google.colab.output.renderOutput(dataTable, element);\n",
              "          const docLink = document.createElement('div');\n",
              "          docLink.innerHTML = docLinkHtml;\n",
              "          element.appendChild(docLink);\n",
              "        }\n",
              "      </script>\n",
              "    </div>\n",
              "  </div>\n",
              "  "
            ]
          },
          "metadata": {},
          "execution_count": 30
        }
      ]
    },
    {
      "cell_type": "code",
      "source": [
        "spark.sql(\"\"\"LOAD DATA LOCAL INPATH '/content/drive/MyDrive/datasets/test_data_without_header.csv' \n",
        "             INTO TABLE test_db.sales_hive_tmp;\"\"\")"
      ],
      "metadata": {
        "colab": {
          "base_uri": "https://localhost:8080/"
        },
        "id": "pK9dfduUPDCs",
        "outputId": "1025f253-18e5-438d-fa32-a45a92a06196"
      },
      "execution_count": 31,
      "outputs": [
        {
          "output_type": "execute_result",
          "data": {
            "text/plain": [
              "DataFrame[]"
            ]
          },
          "metadata": {},
          "execution_count": 31
        }
      ]
    },
    {
      "cell_type": "code",
      "source": [
        "spark.sql(\"\"\"SELECT *\n",
        "            FROM test_db.sales_hive_tmp \n",
        "            LIMIT 10;\"\"\").show()"
      ],
      "metadata": {
        "colab": {
          "base_uri": "https://localhost:8080/"
        },
        "id": "23Awq_0YResb",
        "outputId": "0b647043-4d87-40fa-8927-735962c85700"
      },
      "execution_count": 32,
      "outputs": [
        {
          "output_type": "stream",
          "name": "stdout",
          "text": [
            "+------+-------+-------+------+\n",
            "|region|manager|product|amount|\n",
            "+------+-------+-------+------+\n",
            "|    r2|     m1|    pr3|    12|\n",
            "|    r2|     m5|    pr6|    49|\n",
            "|    r2|     m3|    pr1|    49|\n",
            "|    r5|     m4|    pr7|    59|\n",
            "|    r5|     m2|    pr2|    68|\n",
            "|    r1|     m4|    pr3|    50|\n",
            "|    r2|     m5|    pr2|    21|\n",
            "|    r2|     m5|    pr1|    21|\n",
            "|    r6|     m4|    pr4|    68|\n",
            "|    r6|     m3|    pr2|    22|\n",
            "+------+-------+-------+------+\n",
            "\n"
          ]
        }
      ]
    },
    {
      "cell_type": "markdown",
      "source": [
        "Use INSERT OVERWRITE TABLE to delete existing data in a partition and load with new data."
      ],
      "metadata": {
        "id": "l3_HcTNuRIx8"
      }
    },
    {
      "cell_type": "code",
      "source": [
        "spark.conf.set(\"hive.exec.dynamic.partition.mode\", \"nonstrict\")\n",
        "spark.sql(\"\"\"INSERT OVERWRITE TABLE test_db.sales_hive PARTITION(region) \n",
        "             SELECT manager,product,amount,region FROM test_db.sales_hive_tmp;\"\"\")"
      ],
      "metadata": {
        "colab": {
          "base_uri": "https://localhost:8080/"
        },
        "id": "yK3WeF8RPKjk",
        "outputId": "b8c273a3-d194-431a-d7c9-b921cdba0347"
      },
      "execution_count": 33,
      "outputs": [
        {
          "output_type": "execute_result",
          "data": {
            "text/plain": [
              "DataFrame[]"
            ]
          },
          "metadata": {},
          "execution_count": 33
        }
      ]
    },
    {
      "cell_type": "code",
      "source": [
        "spark.sql(\"\"\"SELECT *\n",
        "            FROM test_db.sales_hive \n",
        "            LIMIT 10;\"\"\").show()"
      ],
      "metadata": {
        "colab": {
          "base_uri": "https://localhost:8080/"
        },
        "id": "8Gyw8mIMX--l",
        "outputId": "b3fd0d2e-967b-4071-9fa1-8daba9f86e1c"
      },
      "execution_count": 34,
      "outputs": [
        {
          "output_type": "stream",
          "name": "stdout",
          "text": [
            "+-------+-------+------+------+\n",
            "|manager|product|amount|region|\n",
            "+-------+-------+------+------+\n",
            "|     m2|    pr2|    74|   r10|\n",
            "|     m3|    pr6|    66|    r4|\n",
            "|     m5|    pr5|    79|    r4|\n",
            "|     m2|    pr5|    51|    r4|\n",
            "|     m2|    pr3|    84|    r4|\n",
            "|     m4|    pr4|    68|    r6|\n",
            "|     m3|    pr2|    22|    r6|\n",
            "|     m2|    pr1|    64|    r6|\n",
            "|     m5|    pr3|    28|    r6|\n",
            "|     m4|    pr3|    50|    r1|\n",
            "+-------+-------+------+------+\n",
            "\n"
          ]
        }
      ]
    },
    {
      "cell_type": "markdown",
      "source": [
        "### Truncate Table"
      ],
      "metadata": {
        "id": "lmt5Zki0viwK"
      }
    },
    {
      "cell_type": "code",
      "source": [
        "spark.sql(\"\"\"TRUNCATE TABLE test_db.sales_hive\"\"\")"
      ],
      "metadata": {
        "colab": {
          "base_uri": "https://localhost:8080/"
        },
        "id": "YZZ6Ndwkvp7L",
        "outputId": "22bc6494-90c9-4810-8bb8-b14b8e5709e0"
      },
      "execution_count": 35,
      "outputs": [
        {
          "output_type": "execute_result",
          "data": {
            "text/plain": [
              "DataFrame[]"
            ]
          },
          "metadata": {},
          "execution_count": 35
        }
      ]
    },
    {
      "cell_type": "markdown",
      "source": [
        "### Insert Data into Partition Table"
      ],
      "metadata": {
        "id": "UJ4lOc5frNJL"
      }
    },
    {
      "cell_type": "code",
      "source": [
        "spark.sql(\"\"\"SELECT *\n",
        "            FROM test_db.sales_hive \n",
        "            LIMIT 10;\"\"\").show()"
      ],
      "metadata": {
        "colab": {
          "base_uri": "https://localhost:8080/"
        },
        "id": "R6bNMcMNtqm6",
        "outputId": "099edd5f-8aa5-41a6-e725-4b4e9caf8f3f"
      },
      "execution_count": 36,
      "outputs": [
        {
          "output_type": "stream",
          "name": "stdout",
          "text": [
            "+-------+-------+------+------+\n",
            "|manager|product|amount|region|\n",
            "+-------+-------+------+------+\n",
            "+-------+-------+------+------+\n",
            "\n"
          ]
        }
      ]
    },
    {
      "cell_type": "code",
      "source": [
        "spark.sql(\"\"\"INSERT INTO test_db.sales_hive PARTITION(region='r1') VALUES ('m1','pr1',1);\"\"\")"
      ],
      "metadata": {
        "id": "hfNHR1SALSQ_",
        "colab": {
          "base_uri": "https://localhost:8080/"
        },
        "outputId": "7985f280-3bd6-4b4d-ca48-dff880fcea00"
      },
      "execution_count": 37,
      "outputs": [
        {
          "output_type": "execute_result",
          "data": {
            "text/plain": [
              "DataFrame[]"
            ]
          },
          "metadata": {},
          "execution_count": 37
        }
      ]
    },
    {
      "cell_type": "code",
      "source": [
        "spark.sql(\"\"\"INSERT INTO test_db.sales_hive PARTITION(region='r2') VALUES ('m2','pr2',2);\"\"\")"
      ],
      "metadata": {
        "colab": {
          "base_uri": "https://localhost:8080/"
        },
        "id": "QNvhXyCfv_FK",
        "outputId": "1d68bad4-6f6d-4dec-c1f2-552e6358358b"
      },
      "execution_count": 38,
      "outputs": [
        {
          "output_type": "execute_result",
          "data": {
            "text/plain": [
              "DataFrame[]"
            ]
          },
          "metadata": {},
          "execution_count": 38
        }
      ]
    },
    {
      "cell_type": "code",
      "source": [
        "spark.sql(\"\"\"SELECT *\n",
        "            FROM test_db.sales_hive \n",
        "            LIMIT 10;\"\"\").show()"
      ],
      "metadata": {
        "colab": {
          "base_uri": "https://localhost:8080/"
        },
        "id": "iWCTsjcIwE9r",
        "outputId": "eea21a6b-f0a7-4bee-ef7b-bdfeb7d32da0"
      },
      "execution_count": 39,
      "outputs": [
        {
          "output_type": "stream",
          "name": "stdout",
          "text": [
            "+-------+-------+------+------+\n",
            "|manager|product|amount|region|\n",
            "+-------+-------+------+------+\n",
            "|     m1|    pr1|     1|    r1|\n",
            "|     m2|    pr2|     2|    r2|\n",
            "+-------+-------+------+------+\n",
            "\n"
          ]
        }
      ]
    },
    {
      "cell_type": "markdown",
      "source": [
        "### String Functions"
      ],
      "metadata": {
        "id": "593ketxDztwp"
      }
    },
    {
      "cell_type": "code",
      "source": [
        "spark.sql(\"\"\"SELECT tbl.region,\n",
        "                    tbl.manager,\n",
        "                    tbl.product,\n",
        "                    tbl.amount,\n",
        "                    concat_ws(\" - \", tbl.region, tbl.manager, tbl.product) as col_concat,\n",
        "                    printf('%d amount', tbl.amount) as col_printf,\n",
        "                    replace(tbl.region, \"r\", \"region\") as col_replace,\n",
        "                    reverse(tbl.manager) as col_reverse,\n",
        "                    split(tbl.product,\"r\") as col_split,\n",
        "                    upper(tbl.manager) as col_upper\n",
        "             FROM test_db.sales_spark as tbl\n",
        "             ORDER BY tbl.region, tbl.manager\n",
        "             LIMIT 10\"\"\").show()"
      ],
      "metadata": {
        "colab": {
          "base_uri": "https://localhost:8080/"
        },
        "id": "TL7bJSjCzvkB",
        "outputId": "331b5740-8702-4007-e6a8-f42c08fdf32d"
      },
      "execution_count": 40,
      "outputs": [
        {
          "output_type": "stream",
          "name": "stdout",
          "text": [
            "+------+-------+-------+------+--------------+----------+-----------+-----------+---------+---------+\n",
            "|region|manager|product|amount|    col_concat|col_printf|col_replace|col_reverse|col_split|col_upper|\n",
            "+------+-------+-------+------+--------------+----------+-----------+-----------+---------+---------+\n",
            "|    r1|     m1|    pr5|    46| r1 - m1 - pr5| 46 amount|    region1|         1m|   [p, 5]|       M1|\n",
            "|    r1|     m4|    pr3|    50| r1 - m4 - pr3| 50 amount|    region1|         4m|   [p, 3]|       M4|\n",
            "|    r1|     m5|    pr3|    59| r1 - m5 - pr3| 59 amount|    region1|         5m|   [p, 3]|       M5|\n",
            "|   r10|     m2|    pr2|    74|r10 - m2 - pr2| 74 amount|   region10|         2m|   [p, 2]|       M2|\n",
            "|    r2|     m1|    pr3|    12| r2 - m1 - pr3| 12 amount|    region2|         1m|   [p, 3]|       M1|\n",
            "|    r2|     m2|    pr3|    85| r2 - m2 - pr3| 85 amount|    region2|         2m|   [p, 3]|       M2|\n",
            "|    r2|     m3|    pr1|    49| r2 - m3 - pr1| 49 amount|    region2|         3m|   [p, 1]|       M3|\n",
            "|    r2|     m5|    pr2|    21| r2 - m5 - pr2| 21 amount|    region2|         5m|   [p, 2]|       M5|\n",
            "|    r2|     m5|    pr1|    57| r2 - m5 - pr1| 57 amount|    region2|         5m|   [p, 1]|       M5|\n",
            "|    r2|     m5|    pr1|    21| r2 - m5 - pr1| 21 amount|    region2|         5m|   [p, 1]|       M5|\n",
            "+------+-------+-------+------+--------------+----------+-----------+-----------+---------+---------+\n",
            "\n"
          ]
        }
      ]
    },
    {
      "cell_type": "markdown",
      "source": [
        "### Conditional Functions"
      ],
      "metadata": {
        "id": "R33xn8Ze2F0J"
      }
    },
    {
      "cell_type": "code",
      "source": [
        "spark.sql(\"\"\"SELECT tbl.region,\n",
        "                    tbl.manager,\n",
        "                    tbl.product,\n",
        "                    tbl.amount,\n",
        "                    if(tbl.amount>40,'yes','no') as col_if,\n",
        "                    case tbl.region WHEN 'r1' THEN 1\n",
        "                                    WHEN 'r2' THEN 2\n",
        "                                    ELSE 0\n",
        "                                    END as col_case\n",
        "             FROM test_db.sales_spark as tbl\n",
        "             ORDER BY tbl.region, tbl.manager\n",
        "             LIMIT 10\"\"\").show()"
      ],
      "metadata": {
        "colab": {
          "base_uri": "https://localhost:8080/"
        },
        "id": "0vZMr82P2MSI",
        "outputId": "c67f266e-891b-4864-b94f-3c1ae03ad26f"
      },
      "execution_count": 41,
      "outputs": [
        {
          "output_type": "stream",
          "name": "stdout",
          "text": [
            "+------+-------+-------+------+------+--------+\n",
            "|region|manager|product|amount|col_if|col_case|\n",
            "+------+-------+-------+------+------+--------+\n",
            "|    r1|     m1|    pr5|    46|   yes|       1|\n",
            "|    r1|     m4|    pr3|    50|   yes|       1|\n",
            "|    r1|     m5|    pr3|    59|   yes|       1|\n",
            "|   r10|     m2|    pr2|    74|   yes|       0|\n",
            "|    r2|     m1|    pr3|    12|    no|       2|\n",
            "|    r2|     m2|    pr3|    85|   yes|       2|\n",
            "|    r2|     m3|    pr1|    49|   yes|       2|\n",
            "|    r2|     m5|    pr2|    21|    no|       2|\n",
            "|    r2|     m5|    pr1|    57|   yes|       2|\n",
            "|    r2|     m5|    pr1|    21|    no|       2|\n",
            "+------+-------+-------+------+------+--------+\n",
            "\n"
          ]
        }
      ]
    },
    {
      "cell_type": "markdown",
      "source": [
        "### Collection Functions"
      ],
      "metadata": {
        "id": "3MEQJU5p3ZP3"
      }
    },
    {
      "cell_type": "code",
      "source": [
        "spark.sql(\"\"\"SELECT tbl.region,\n",
        "                    tbl.manager,\n",
        "                    tbl.product,\n",
        "                    tbl.amount,\n",
        "                    split(tbl.product,\"r\") as col_split,\n",
        "                    size(split(tbl.product,\"r\")) as col_size,\n",
        "                    array_contains(split(tbl.product,\"r\"),'3') as col_array_contains\n",
        "             FROM test_db.sales_spark as tbl\n",
        "             ORDER BY tbl.region, tbl.manager\n",
        "             LIMIT 10\"\"\").show()"
      ],
      "metadata": {
        "colab": {
          "base_uri": "https://localhost:8080/"
        },
        "id": "egBpsdz53joY",
        "outputId": "13eba596-7679-43e8-8cf2-7a8760507b5f"
      },
      "execution_count": 42,
      "outputs": [
        {
          "output_type": "stream",
          "name": "stdout",
          "text": [
            "+------+-------+-------+------+---------+--------+------------------+\n",
            "|region|manager|product|amount|col_split|col_size|col_array_contains|\n",
            "+------+-------+-------+------+---------+--------+------------------+\n",
            "|    r1|     m1|    pr5|    46|   [p, 5]|       2|             false|\n",
            "|    r1|     m4|    pr3|    50|   [p, 3]|       2|              true|\n",
            "|    r1|     m5|    pr3|    59|   [p, 3]|       2|              true|\n",
            "|   r10|     m2|    pr2|    74|   [p, 2]|       2|             false|\n",
            "|    r2|     m1|    pr3|    12|   [p, 3]|       2|              true|\n",
            "|    r2|     m2|    pr3|    85|   [p, 3]|       2|              true|\n",
            "|    r2|     m3|    pr1|    49|   [p, 1]|       2|             false|\n",
            "|    r2|     m5|    pr2|    21|   [p, 2]|       2|             false|\n",
            "|    r2|     m5|    pr1|    57|   [p, 1]|       2|             false|\n",
            "|    r2|     m5|    pr1|    21|   [p, 1]|       2|             false|\n",
            "+------+-------+-------+------+---------+--------+------------------+\n",
            "\n"
          ]
        }
      ]
    },
    {
      "cell_type": "markdown",
      "source": [
        "### Aggregate Functions"
      ],
      "metadata": {
        "id": "X8tpMk9S4qFQ"
      }
    },
    {
      "cell_type": "code",
      "source": [
        "spark.sql(\"\"\"SELECT tbl.region,\n",
        "                    tbl.manager,\n",
        "                    sum(tbl.amount) as col_sum,\n",
        "                    count(tbl.amount) as col_count,\n",
        "                    avg(tbl.amount) as col_avg,\n",
        "                    min(tbl.amount) as col_min,\n",
        "                    max(tbl.amount) as col_max,\n",
        "                    collect_set(tbl.amount) as col_collect_set,\n",
        "                    collect_list(tbl.amount) as col_collect_list\n",
        "             FROM test_db.sales_spark as tbl\n",
        "             GROUP BY tbl.region, tbl.manager\n",
        "             ORDER BY tbl.region, tbl.manager\n",
        "             LIMIT 10\"\"\").show()"
      ],
      "metadata": {
        "colab": {
          "base_uri": "https://localhost:8080/"
        },
        "id": "eK04w60V4rKX",
        "outputId": "71054b45-7677-4ec7-e1e7-37b693add9b8"
      },
      "execution_count": 43,
      "outputs": [
        {
          "output_type": "stream",
          "name": "stdout",
          "text": [
            "+------+-------+-------+---------+-------+-------+-------+----------------+--------------------+\n",
            "|region|manager|col_sum|col_count|col_avg|col_min|col_max| col_collect_set|    col_collect_list|\n",
            "+------+-------+-------+---------+-------+-------+-------+----------------+--------------------+\n",
            "|    r1|     m1|     46|        1|   46.0|     46|     46|            [46]|                [46]|\n",
            "|    r1|     m4|     50|        1|   50.0|     50|     50|            [50]|                [50]|\n",
            "|    r1|     m5|     59|        1|   59.0|     59|     59|            [59]|                [59]|\n",
            "|   r10|     m2|     74|        1|   74.0|     74|     74|            [74]|                [74]|\n",
            "|    r2|     m1|     12|        1|   12.0|     12|     12|            [12]|                [12]|\n",
            "|    r2|     m2|     85|        1|   85.0|     85|     85|            [85]|                [85]|\n",
            "|    r2|     m3|     49|        1|   49.0|     49|     49|            [49]|                [49]|\n",
            "|    r2|     m5|    163|        5|   32.6|     15|     57|[15, 49, 21, 57]|[21, 21, 57, 15, 49]|\n",
            "|    r4|     m2|    135|        2|   67.5|     51|     84|        [51, 84]|            [84, 51]|\n",
            "|    r4|     m3|     66|        1|   66.0|     66|     66|            [66]|                [66]|\n",
            "+------+-------+-------+---------+-------+-------+-------+----------------+--------------------+\n",
            "\n"
          ]
        }
      ]
    }
  ]
}